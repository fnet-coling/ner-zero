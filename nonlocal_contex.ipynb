{
 "cells": [
  {
   "cell_type": "code",
   "execution_count": 6,
   "metadata": {
    "collapsed": false
   },
   "outputs": [],
   "source": [
    "from collections import defaultdict\n",
    "data = '/Users/mayk/working/figer/baseline/PLE/Intermediate/BBN/'\n",
    "id2mention = defaultdict()\n",
    "mention2id= defaultdict()\n",
    "with open(data+'mention.txt','rb') as mf:\n",
    "    for ln in mf:\n",
    "        mid,iid = ln.rstrip().split()\n",
    "        mention2id[mid]=iid   \n",
    "        id2mention[iid]=mid"
   ]
  },
  {
   "cell_type": "code",
   "execution_count": 2,
   "metadata": {
    "collapsed": false
   },
   "outputs": [],
   "source": [
    "mmap= defaultdict()\n",
    "\n",
    "with open(data+'mention_dict.txt','r') as mentions:\n",
    "    for ln in mentions:\n",
    "\n",
    "        mid,name= ln.rstrip().split(':',1)\n",
    "\n",
    "        fid = mid[:mid.index('_')]\n",
    "        if fid not in mmap:\n",
    "            mmap[fid]=defaultdict()\n",
    "        if name not in mmap[fid]:mmap[fid][name] = []\n",
    "        if mid in mention2id:\n",
    "            mmap[fid][name].append(mid)"
   ]
  },
  {
   "cell_type": "code",
   "execution_count": 13,
   "metadata": {
    "collapsed": true
   },
   "outputs": [],
   "source": [
    "\n",
    "mention2feat= defaultdict()\n",
    "with open(data+'mention_feature.txt','rb') as mf:\n",
    "    for ln in mf:\n",
    "        iid,feat,count = ln.rstrip().split('\\t')\n",
    "        if iid not in mention2feat:mention2feat[iid]=[]\n",
    "        mention2feat[iid].append(feat)\n",
    "comap = defaultdict()\n",
    "for fid in mmap:\n",
    "    for name in mmap[fid]:\n",
    "        ids = map(lambda x:mention2id[x],mmap[fid][name])\n",
    "        for id in ids:\n",
    "            comap[id] = ids\n",
    "out = open(data+'mention_feature.nonlocal.txt','wb')\n",
    "for mid in mention2feat:\n",
    "    coids = comap[mid]\n",
    "    feats = list(set([feat for coid in coids for feat in mention2feat[coid]]))\n",
    "    for feat in feats:\n",
    "        out.write(\"%s\\t%s\\t1\\n\" % (mid,feats))\n",
    "out.close()"
   ]
  },
  {
   "cell_type": "code",
   "execution_count": 3,
   "metadata": {
    "collapsed": false
   },
   "outputs": [],
   "source": []
  },
  {
   "cell_type": "code",
   "execution_count": 4,
   "metadata": {
    "collapsed": false
   },
   "outputs": [],
   "source": [
    "#\n",
    "\n",
    "            \n",
    "            #for coid in ids:\n",
    "                #for feat in mention2feat[coid]:\n",
    "                  #  out.write(\"%s\\t%s\\t1\\n\" % (id,feat))\n"
   ]
  },
  {
   "cell_type": "code",
   "execution_count": 8,
   "metadata": {
    "collapsed": false
   },
   "outputs": [],
   "source": [
    "mention2feat= defaultdict()\n",
    "with open(data+'mention_feature_test.txt','rb') as mf:\n",
    "    for ln in mf:\n",
    "        iid,feat,count = ln.rstrip().split('\\t')\n",
    "        if iid not in mention2feat:mention2feat[iid]=[]\n",
    "        mention2feat[iid].append(feat)\n",
    "comap = defaultdict()\n",
    "for fid in mmap:\n",
    "    for name in mmap[fid]:\n",
    "        ids = map(lambda x:mention2id[x],mmap[fid][name])\n",
    "        for id in ids:\n",
    "            comap[id] = ids\n",
    "out = open(data+'test_x.nonlocal.txt','wb')\n",
    "for mid in mention2feat:\n",
    "    coids = comap[mid]\n",
    "    feats = list(set([feat for coid in coids for feat in mention2feat[coid]]))\n",
    "    out.write(\"%s\\t%s\\n\" % (id2mention[mid],\",\".join(feats)))\n",
    "out.close()"
   ]
  },
  {
   "cell_type": "code",
   "execution_count": 9,
   "metadata": {
    "collapsed": false
   },
   "outputs": [
    {
     "data": {
      "text/plain": [
       "'91303'"
      ]
     },
     "execution_count": 9,
     "metadata": {},
     "output_type": "execute_result"
    }
   ],
   "source": [
    "mention2feat[]"
   ]
  },
  {
   "cell_type": "code",
   "execution_count": 11,
   "metadata": {
    "collapsed": false
   },
   "outputs": [
    {
     "data": {
      "text/plain": [
       "'WSJ1057_139_19_20'"
      ]
     },
     "execution_count": 11,
     "metadata": {},
     "output_type": "execute_result"
    }
   ],
   "source": [
    "id2mention['91303']"
   ]
  },
  {
   "cell_type": "code",
   "execution_count": 12,
   "metadata": {
    "collapsed": false
   },
   "outputs": [
    {
     "data": {
      "text/plain": [
       "defaultdict(None,\n",
       "            {'': ['WSJ1057_19_-1_-1',\n",
       "              'WSJ1057_70_-1_-1',\n",
       "              'WSJ1057_115_-1_-1',\n",
       "              'WSJ1057_115_-1_-1'],\n",
       "             'ABC': ['WSJ1057_4_11_12',\n",
       "              'WSJ1057_9_5_6',\n",
       "              'WSJ1057_16_0_1',\n",
       "              'WSJ1057_34_10_11',\n",
       "              'WSJ1057_46_5_6',\n",
       "              'WSJ1057_64_23_24',\n",
       "              'WSJ1057_71_30_31',\n",
       "              'WSJ1057_85_9_10',\n",
       "              'WSJ1057_106_13_14',\n",
       "              'WSJ1057_107_12_13',\n",
       "              'WSJ1057_114_31_32',\n",
       "              'WSJ1057_119_0_1',\n",
       "              'WSJ1057_133_11_12'],\n",
       "             'Albertville': ['WSJ1057_64_19_20'],\n",
       "             'Arnold Chase': ['WSJ1057_115_20_22'],\n",
       "             'Arnold Klinsky': ['WSJ1057_97_17_19'],\n",
       "             'Arthur Watson': ['WSJ1057_49_13_15'],\n",
       "             'Barry Frank': ['WSJ1057_0_13_15', 'WSJ1057_124_0_2'],\n",
       "             'Bill Cosby': ['WSJ1057_93_8_10'],\n",
       "             'Bozell Inc .': ['WSJ1057_115_23_26'],\n",
       "             'CBS': ['WSJ1057_2_1_2',\n",
       "              'WSJ1057_3_4_5',\n",
       "              'WSJ1057_10_2_3',\n",
       "              'WSJ1057_11_2_3',\n",
       "              'WSJ1057_15_0_1',\n",
       "              'WSJ1057_16_23_24',\n",
       "              'WSJ1057_24_0_1',\n",
       "              'WSJ1057_25_26_27',\n",
       "              'WSJ1057_27_23_24',\n",
       "              'WSJ1057_30_32_33',\n",
       "              'WSJ1057_37_9_10',\n",
       "              'WSJ1057_38_0_1',\n",
       "              'WSJ1057_40_28_29',\n",
       "              'WSJ1057_40_28_29',\n",
       "              'WSJ1057_42_27_28',\n",
       "              'WSJ1057_60_9_10',\n",
       "              'WSJ1057_62_9_10',\n",
       "              'WSJ1057_66_18_19',\n",
       "              'WSJ1057_69_3_4',\n",
       "              'WSJ1057_71_6_7',\n",
       "              'WSJ1057_74_20_21',\n",
       "              'WSJ1057_75_9_10',\n",
       "              'WSJ1057_79_0_1',\n",
       "              'WSJ1057_80_28_29',\n",
       "              'WSJ1057_80_28_29',\n",
       "              'WSJ1057_81_1_2',\n",
       "              'WSJ1057_89_1_2',\n",
       "              'WSJ1057_90_0_1',\n",
       "              'WSJ1057_91_2_3',\n",
       "              'WSJ1057_92_13_14',\n",
       "              'WSJ1057_93_1_2',\n",
       "              'WSJ1057_96_11_12',\n",
       "              'WSJ1057_97_26_27',\n",
       "              'WSJ1057_99_8_9',\n",
       "              'WSJ1057_101_27_28',\n",
       "              'WSJ1057_101_27_28',\n",
       "              'WSJ1057_103_14_15',\n",
       "              'WSJ1057_106_0_1',\n",
       "              'WSJ1057_107_1_2',\n",
       "              'WSJ1057_109_17_18',\n",
       "              'WSJ1057_112_0_1',\n",
       "              'WSJ1057_118_0_1',\n",
       "              'WSJ1057_121_0_1',\n",
       "              'WSJ1057_123_14_15',\n",
       "              'WSJ1057_123_14_15',\n",
       "              'WSJ1057_124_18_19',\n",
       "              'WSJ1057_125_34_35',\n",
       "              'WSJ1057_130_8_9',\n",
       "              'WSJ1057_131_4_5',\n",
       "              'WSJ1057_133_1_2',\n",
       "              'WSJ1057_134_18_19',\n",
       "              'WSJ1057_134_18_19',\n",
       "              'WSJ1057_136_0_1',\n",
       "              'WSJ1057_138_11_12',\n",
       "              'WSJ1057_139_19_20'],\n",
       "             'CBS Inc.': ['WSJ1057_14_1_3', 'WSJ1057_30_32_34'],\n",
       "             'CBS Records': ['WSJ1057_139_19_21'],\n",
       "             'CBS Sports': ['WSJ1057_0_5_7',\n",
       "              'WSJ1057_41_25_27',\n",
       "              'WSJ1057_47_24_26',\n",
       "              'WSJ1057_52_5_7',\n",
       "              'WSJ1057_132_0_2'],\n",
       "             'Calgary': ['WSJ1057_120_9_10'],\n",
       "             'Call to Glory': ['WSJ1057_85_12_15'],\n",
       "             'Capital Cities\\\\/ABC': ['WSJ1057_55_31_33'],\n",
       "             'Capital Cities\\\\/ABC Inc.': ['WSJ1057_16_5_8'],\n",
       "             'Charles M. Neinas': ['WSJ1057_13_11_14'],\n",
       "             'Cheers': ['WSJ1057_93_12_13'],\n",
       "             'Chicago': ['WSJ1057_70_23_24'],\n",
       "             'College Football Association': ['WSJ1057_13_16_19'],\n",
       "             'Comsat Inc .': ['WSJ1057_101_32_35'],\n",
       "             'David J. Stern': ['WSJ1057_127_15_18'],\n",
       "             'Dick Pound': ['WSJ1057_4_0_2'],\n",
       "             'ESPN': ['WSJ1057_28_18_19',\n",
       "              'WSJ1057_42_7_8',\n",
       "              'WSJ1057_55_24_25',\n",
       "              'WSJ1057_83_24_25'],\n",
       "             'France': ['WSJ1057_64_21_22'],\n",
       "             'Frank': ['WSJ1057_1_1_2', 'WSJ1057_125_23_24'],\n",
       "             'General Electric Co.': ['WSJ1057_16_10_13'],\n",
       "             'General Motors': ['WSJ1057_112_2_4'],\n",
       "             'International Management Group': ['WSJ1057_125_29_32'],\n",
       "             'International Olympic Committee': ['WSJ1057_3_16_19'],\n",
       "             'J. William Grimes': ['WSJ1057_42_0_3'],\n",
       "             'Jonathan Rodgers': ['WSJ1057_70_12_14'],\n",
       "             'Laurence A. Tisch': ['WSJ1057_30_35_38'],\n",
       "             'Lotos Club': ['WSJ1057_0_20_22'],\n",
       "             'MacDonald Grippo Riely': ['WSJ1057_140_7_10'],\n",
       "             'Meredith Corp.': ['WSJ1057_80_19_21'],\n",
       "             'Metromedia Inc.': ['WSJ1057_51_19_21'],\n",
       "             'Multimedia Inc .': ['WSJ1057_41_30_33'],\n",
       "             'NBA': ['WSJ1057_130_11_12'],\n",
       "             'NBC': ['WSJ1057_4_13_14',\n",
       "              'WSJ1057_9_7_8',\n",
       "              'WSJ1057_34_12_13',\n",
       "              'WSJ1057_42_10_11',\n",
       "              'WSJ1057_49_11_12',\n",
       "              'WSJ1057_55_9_10',\n",
       "              'WSJ1057_64_25_26',\n",
       "              'WSJ1057_71_28_29',\n",
       "              'WSJ1057_86_9_10',\n",
       "              'WSJ1057_93_18_19',\n",
       "              'WSJ1057_97_28_29',\n",
       "              'WSJ1057_106_15_16',\n",
       "              'WSJ1057_107_14_15',\n",
       "              'WSJ1057_133_13_14'],\n",
       "             'National Basketball Association': ['WSJ1057_127_23_26'],\n",
       "             'National Broadcasting Co.': ['WSJ1057_16_14_17'],\n",
       "             'Neal Pilson': ['WSJ1057_0_8_10'],\n",
       "             'New York': ['WSJ1057_60_27_29'],\n",
       "             'Norway': ['WSJ1057_1_23_24', 'WSJ1057_122_12_13'],\n",
       "             'Olympic Winter Games': ['WSJ1057_33_14_17'],\n",
       "             'Olympics': ['WSJ1057_0_11_12',\n",
       "              'WSJ1057_1_6_7',\n",
       "              'WSJ1057_35_8_9',\n",
       "              'WSJ1057_75_6_7',\n",
       "              'WSJ1057_92_9_10',\n",
       "              'WSJ1057_138_3_4'],\n",
       "             'Paul Isacsson': ['WSJ1057_19_13_15'],\n",
       "             'Peter Lund': ['WSJ1057_41_20_22'],\n",
       "             'Philadelphia': ['WSJ1057_60_14_15'],\n",
       "             'Philip A. Jones': ['WSJ1057_80_12_15'],\n",
       "             'Pilson': ['WSJ1057_1_4_5',\n",
       "              'WSJ1057_5_5_6',\n",
       "              'WSJ1057_6_1_2',\n",
       "              'WSJ1057_8_3_4',\n",
       "              'WSJ1057_9_1_2',\n",
       "              'WSJ1057_12_2_3',\n",
       "              'WSJ1057_25_1_2',\n",
       "              'WSJ1057_33_23_24',\n",
       "              'WSJ1057_36_3_4',\n",
       "              'WSJ1057_45_1_2',\n",
       "              'WSJ1057_47_3_4',\n",
       "              'WSJ1057_49_7_8',\n",
       "              'WSJ1057_50_4_5',\n",
       "              'WSJ1057_53_1_2',\n",
       "              'WSJ1057_58_12_13',\n",
       "              'WSJ1057_59_1_2',\n",
       "              'WSJ1057_60_32_33',\n",
       "              'WSJ1057_60_32_33',\n",
       "              'WSJ1057_62_24_25',\n",
       "              'WSJ1057_64_1_2',\n",
       "              'WSJ1057_66_8_9',\n",
       "              'WSJ1057_73_24_25',\n",
       "              'WSJ1057_75_1_2',\n",
       "              'WSJ1057_77_10_11',\n",
       "              'WSJ1057_103_1_2',\n",
       "              'WSJ1057_124_8_9',\n",
       "              'WSJ1057_130_34_35',\n",
       "              'WSJ1057_142_2_3'],\n",
       "             'Pound': ['WSJ1057_7_2_3'],\n",
       "             'Richard J. MacDonald': ['WSJ1057_140_3_6'],\n",
       "             'Robert Wussler': ['WSJ1057_47_19_21'],\n",
       "             'Rochester': ['WSJ1057_97_22_23'],\n",
       "             'Roger Werner': ['WSJ1057_28_11_13'],\n",
       "             'Summer Games': ['WSJ1057_55_20_22',\n",
       "              'WSJ1057_85_3_5',\n",
       "              'WSJ1057_86_6_8'],\n",
       "             'Super Bowl': ['WSJ1057_79_4_6'],\n",
       "             'Tattingers': ['WSJ1057_86_17_18'],\n",
       "             'Thomas H. Wyman': ['WSJ1057_30_22_25'],\n",
       "             'Tisch': ['WSJ1057_59_11_12',\n",
       "              'WSJ1057_60_19_20',\n",
       "              'WSJ1057_61_1_2',\n",
       "              'WSJ1057_62_5_6',\n",
       "              'WSJ1057_63_7_8',\n",
       "              'WSJ1057_105_2_3'],\n",
       "             'Toronto': ['WSJ1057_3_21_22'],\n",
       "             'Toyota': ['WSJ1057_112_5_6'],\n",
       "             'Turner Broadcasting': ['WSJ1057_123_1_3'],\n",
       "             'U.S.': ['WSJ1057_105_15_16'],\n",
       "             'Variety': ['WSJ1057_133_27_28'],\n",
       "             'WBBM-TV': ['WSJ1057_70_17_18'],\n",
       "             'WHEC-TV': ['WSJ1057_97_20_21'],\n",
       "             'Werner': ['WSJ1057_83_27_28'],\n",
       "             'William Morris': ['WSJ1057_51_23_25'],\n",
       "             'Winter Games': ['WSJ1057_1_20_22',\n",
       "              'WSJ1057_46_17_19',\n",
       "              'WSJ1057_64_16_18',\n",
       "              'WSJ1057_117_1_3',\n",
       "              'WSJ1057_119_8_10'],\n",
       "             'Winter Olympics': ['WSJ1057_76_2_4'],\n",
       "             'World Series': ['WSJ1057_69_28_30',\n",
       "              'WSJ1057_92_5_7',\n",
       "              'WSJ1057_97_2_4',\n",
       "              'WSJ1057_114_21_23'],\n",
       "             'Wussler': ['WSJ1057_101_23_24'],\n",
       "             'Yale': ['WSJ1057_51_1_2'],\n",
       "             'baseball': ['WSJ1057_33_10_11',\n",
       "              'WSJ1057_55_44_45',\n",
       "              'WSJ1057_71_2_3',\n",
       "              'WSJ1057_75_3_4',\n",
       "              'WSJ1057_103_19_20',\n",
       "              'WSJ1057_106_27_28',\n",
       "              'WSJ1057_112_13_14',\n",
       "              'WSJ1057_138_5_6'],\n",
       "             'basketball': ['WSJ1057_36_8_9', 'WSJ1057_42_21_22'],\n",
       "             'poker': ['WSJ1057_13_4_5']})"
      ]
     },
     "execution_count": 12,
     "metadata": {},
     "output_type": "execute_result"
    }
   ],
   "source": [
    "mmap['WSJ1057']"
   ]
  },
  {
   "cell_type": "code",
   "execution_count": null,
   "metadata": {
    "collapsed": true
   },
   "outputs": [],
   "source": []
  }
 ],
 "metadata": {
  "kernelspec": {
   "display_name": "Python 2",
   "language": "python",
   "name": "python2"
  },
  "language_info": {
   "codemirror_mode": {
    "name": "ipython",
    "version": 2
   },
   "file_extension": ".py",
   "mimetype": "text/x-python",
   "name": "python",
   "nbconvert_exporter": "python",
   "pygments_lexer": "ipython2",
   "version": "2.7.10"
  }
 },
 "nbformat": 4,
 "nbformat_minor": 0
}
