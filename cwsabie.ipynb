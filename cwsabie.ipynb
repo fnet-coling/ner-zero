{
 "cells": [
  {
   "cell_type": "code",
   "execution_count": 1,
   "metadata": {
    "collapsed": true
   },
   "outputs": [],
   "source": [
    "import random\n",
    "import numpy as np\n",
    "import sys\n",
    "from random import randint\n",
    "from data_load import *\n",
    "in_dir= \"/Users/mayk/working/figer/baseline/PLE/Intermediate/BBN\"\n",
    "a=MentionData('/Users/mayk/working/figer/baseline/PLE/Intermediate/BBN/train_x_new.txt',\n",
    "              \"/Users/mayk/working/figer/baseline/PLE/Intermediate/BBN/train_y.txt\",\n",
    "              in_dir+\"/feature.txt\",in_dir+\"/type.txt\")\n",
    "from cwsabie_inner import *\n",
    "from transE_label import *\n",
    "from gensim.corpora import Dictionary\n",
    "from collections import Counter\n",
    "def save2bin(mat,dct,fn):\n",
    "    n,d  = mat.shape\n",
    "    with open(fn,'w') as out:\n",
    "        out.write(\"%d %d\\n\" % (n,d))\n",
    "        for i in range(n):\n",
    "            text = \" \".join(map(str,mat[i]))\n",
    "            out.write(\"%s %s\\n\" %(dct[i],text))"
   ]
  },
  {
   "cell_type": "code",
   "execution_count": 2,
   "metadata": {
    "collapsed": true
   },
   "outputs": [],
   "source": []
  },
  {
   "cell_type": "code",
   "execution_count": 2,
   "metadata": {
    "collapsed": false
   },
   "outputs": [
    {
     "name": "stdout",
     "output_type": "stream",
     "text": [
      "Iteration 0 trained 100% Loss:167896.14\n",
      "Iteration 1 trained 100% Loss:104485.92\n",
      "Iteration 2 trained 100% Loss:85198.15\n",
      "Iteration 3 trained 100% Loss:74730.84\n",
      "Iteration 4 trained 100% Loss:66882.59\n",
      "Iteration 5 trained 100% Loss:61352.09\n",
      "Iteration 6 trained 100% Loss:57184.60\n",
      "Iteration 7 trained 100% Loss:53437.40\n",
      "Iteration 8 trained 100% Loss:50593.44\n",
      "Iteration 9 trained 100% Loss:47859.70\n",
      "Iteration 10 trained 100% Loss:45893.30\n",
      "Iteration 11 trained 100% Loss:44063.52\n",
      "Iteration 12 trained 100% Loss:41691.52\n",
      "Iteration 13 trained 100% Loss:40175.62\n",
      "Iteration 14 trained 100% Loss:39267.41\n"
     ]
    }
   ],
   "source": [
    "np.random.seed(12)\n",
    "size= 300\n",
    "A= np.random.uniform(-6/np.sqrt(size),6/np.sqrt(size), [len(a.feature2id),size]).astype(np.float32)#np.random.rand(len(a.feature2id),size).astype(np.float32)\n",
    "B= np.random.uniform(-6/np.sqrt(size),6/np.sqrt(size), [len(a.label2id),size]).astype(np.float32)# np.random.rand(len(a.label2id),size).astype(np.float32)\n",
    "next_random = 1\n",
    "normalize(A)\n",
    "normalize(B)\n",
    "for i in range(15): \n",
    "    ctrain(A,B,a.data,size,0.001,warp_gradient,it=i,Verbose=True)\n",
    "save2bin(A,a.id2feature,'/Users/mayk/working/figer/baseline/PLE/Results/warp_A.bin')\n",
    "save2bin(B,a.id2label,'/Users/mayk/working/figer/baseline/PLE/Results/warp_B.bin')"
   ]
  },
  {
   "cell_type": "code",
   "execution_count": 12,
   "metadata": {
    "collapsed": true
   },
   "outputs": [],
   "source": [
    "save2bin(A,a.id2feature,'/Users/mayk/working/figer/baseline/PLE/Results/warp_A.bin')\n",
    "save2bin(B,a.id2label,'/Users/mayk/working/figer/baseline/PLE/Results/warp_B.bin')"
   ]
  },
  {
   "cell_type": "code",
   "execution_count": 11,
   "metadata": {
    "collapsed": false
   },
   "outputs": [
    {
     "name": "stdout",
     "output_type": "stream",
     "text": [
      "/ANIMAL 422\n",
      "/GAME 351\n",
      "/ORGANIZATION/EDUCATIONAL 752\n",
      "/LOCATION/REGION 902\n",
      "/ORGANIZATION/HOSPITAL 30\n",
      "/FACILITY 719\n",
      "/FACILITY/ATTRACTION 342\n",
      "/ORGANIZATION/POLITICAL 613\n",
      "/LANGUAGE 509\n",
      "/WORK_OF_ART/SONG 749\n",
      "/PRODUCT/WEAPON 127\n",
      "/FACILITY/HIGHWAY_STREET 100\n",
      "/LOCATION/CONTINENT 234\n",
      "/ORGANIZATION/MUSEUM 141\n",
      "/FACILITY/BUILDING 333\n",
      "/FACILITY/BRIDGE 26\n",
      "/WORK_OF_ART/PLAY 31\n",
      "/LAW 245\n",
      "/EVENT/HURRICANE 128\n",
      "/PRODUCT/VEHICLE 405\n",
      "/LOCATION/RIVER 96\n",
      "/FACILITY/AIRPORT 80\n",
      "/ORGANIZATION/HOTEL 13\n",
      "/ORGANIZATION/RELIGIOUS 88\n",
      "/LOCATION/LAKE_SEA_OCEAN 6\n"
     ]
    }
   ],
   "source": [
    "d = [0]*len(a.label2id)\n",
    "for inst in a.data:\n",
    "    for l in inst.sparse_labels:\n",
    "        d[l]+=1\n",
    "rare_labels = set()\n",
    "for i in range(len(d)):\n",
    "    if d[i] < 1000:\n",
    "        print a.id2label[i],d[i]\n",
    "        rare_labels.add(i)\n",
    "def filte_rare(data,labels):\n",
    "    \n",
    "    new_data = []\n",
    "    for i in range(len(data)):\n",
    "        skip = False\n",
    "        for l in data[i].sparse_labels:\n",
    "            if l in labels:\n",
    "                skip =True\n",
    "                break\n",
    "        if not skip:\n",
    "            new_data.append(data[i])\n",
    "    return new_data\n",
    "a.data= filte_rare(a.data,rare_labels)"
   ]
  },
  {
   "cell_type": "code",
   "execution_count": null,
   "metadata": {
    "collapsed": true
   },
   "outputs": [],
   "source": []
  }
 ],
 "metadata": {
  "kernelspec": {
   "display_name": "Python 2",
   "language": "python",
   "name": "python2"
  },
  "language_info": {
   "codemirror_mode": {
    "name": "ipython",
    "version": 2
   },
   "file_extension": ".py",
   "mimetype": "text/x-python",
   "name": "python",
   "nbconvert_exporter": "python",
   "pygments_lexer": "ipython2",
   "version": "2.7.10"
  }
 },
 "nbformat": 4,
 "nbformat_minor": 0
}
