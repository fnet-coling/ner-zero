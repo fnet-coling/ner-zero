{
 "cells": [
  {
   "cell_type": "code",
   "execution_count": 1,
   "metadata": {
    "collapsed": false
   },
   "outputs": [],
   "source": [
    "from data_load import *\n",
    "from TypeHierarchy import *\n",
    "import numpy as np\n",
    "from cwsabie_label import save2bin\n",
    "def readTypeFunc(x,ln): \n",
    "    splited=ln.rstrip().split()\n",
    "    x[splited[0]]=int(splited[1])\n",
    "    return x\n",
    "def readTypeRevFunc(x,ln): \n",
    "    splited=ln.rstrip().split()\n",
    "    x[int(splited[1])]=splited[0]\n",
    "    return x\n",
    "readType=lambda fn:processLines(fn,readTypeFunc,dict())\n",
    "readTypeID=lambda fn:processLines(fn,readTypeRevFunc,dict())"
   ]
  },
  {
   "cell_type": "code",
   "execution_count": 2,
   "metadata": {
    "collapsed": false
   },
   "outputs": [],
   "source": [
    "indir=\"/Users/mayk/working/figer/baseline/PLE/Intermediate/BBN/\"\n",
    "tier = TypeHierarchy(indir+\"supertype.txt\",47)\n",
    "label2id =readType(indir+'/type.txt')\n",
    "id2label =readTypeID(indir+'/type.txt')\n"
   ]
  },
  {
   "cell_type": "code",
   "execution_count": 32,
   "metadata": {
    "collapsed": false
   },
   "outputs": [],
   "source": [
    "def makeHierVec(tier,vocab):\n",
    "    vecs = np.zeros([len(vocab),len(vocab)],dtype=np.float32)\n",
    "    for k,v in vocab.iteritems():\n",
    "        path = tier.get_type_path(v)\n",
    "#         subs  = tier.get_subtypes(v)\n",
    "#         if subs!=None:path.extend(subs)\n",
    "        vecs[v][path] =1.0\n",
    "#         vecs[v][v] =1.0\n",
    "    return vecs"
   ]
  },
  {
   "cell_type": "code",
   "execution_count": 33,
   "metadata": {
    "collapsed": false
   },
   "outputs": [],
   "source": [
    "embedding = makeHierVec(tier,label2id)\n",
    "save2bin(embedding,id2label,indir+'labels_hier.bin')"
   ]
  },
  {
   "cell_type": "code",
   "execution_count": 34,
   "metadata": {
    "collapsed": false
   },
   "outputs": [],
   "source": []
  },
  {
   "cell_type": "code",
   "execution_count": 35,
   "metadata": {
    "collapsed": false
   },
   "outputs": [
    {
     "data": {
      "text/plain": [
       "{'/ANIMAL': 9,\n",
       " '/CONTACT_INFO': 21,\n",
       " '/CONTACT_INFO/url': 20,\n",
       " '/DISEASE': 8,\n",
       " '/EVENT': 15,\n",
       " '/EVENT/HURRICANE': 40,\n",
       " '/EVENT/WAR': 16,\n",
       " '/FACILITY': 26,\n",
       " '/FACILITY/AIRPORT': 43,\n",
       " '/FACILITY/ATTRACTION': 27,\n",
       " '/FACILITY/BRIDGE': 37,\n",
       " '/FACILITY/BUILDING': 36,\n",
       " '/FACILITY/HIGHWAY_STREET': 33,\n",
       " '/GAME': 10,\n",
       " '/GPE': 18,\n",
       " '/GPE/CITY': 17,\n",
       " '/GPE/COUNTRY': 22,\n",
       " '/GPE/STATE_PROVINCE': 28,\n",
       " '/LANGUAGE': 30,\n",
       " '/LAW': 39,\n",
       " '/LOCATION': 13,\n",
       " '/LOCATION/CONTINENT': 34,\n",
       " '/LOCATION/LAKE_SEA_OCEAN': 46,\n",
       " '/LOCATION/REGION': 23,\n",
       " '/LOCATION/RIVER': 42,\n",
       " '/ORGANIZATION': 6,\n",
       " '/ORGANIZATION/CORPORATION': 4,\n",
       " '/ORGANIZATION/EDUCATIONAL': 12,\n",
       " '/ORGANIZATION/GOVERNMENT': 25,\n",
       " '/ORGANIZATION/HOSPITAL': 24,\n",
       " '/ORGANIZATION/HOTEL': 44,\n",
       " '/ORGANIZATION/MUSEUM': 35,\n",
       " '/ORGANIZATION/POLITICAL': 29,\n",
       " '/ORGANIZATION/RELIGIOUS': 45,\n",
       " '/PERSON': 19,\n",
       " '/PLANT': 0,\n",
       " '/PRODUCT': 1,\n",
       " '/PRODUCT/VEHICLE': 41,\n",
       " '/PRODUCT/WEAPON': 32,\n",
       " '/SUBSTANCE': 2,\n",
       " '/SUBSTANCE/CHEMICAL': 11,\n",
       " '/SUBSTANCE/DRUG': 14,\n",
       " '/SUBSTANCE/FOOD': 3,\n",
       " '/WORK_OF_ART': 5,\n",
       " '/WORK_OF_ART/BOOK': 7,\n",
       " '/WORK_OF_ART/PLAY': 38,\n",
       " '/WORK_OF_ART/SONG': 31}"
      ]
     },
     "execution_count": 35,
     "metadata": {},
     "output_type": "execute_result"
    }
   ],
   "source": []
  },
  {
   "cell_type": "code",
   "execution_count": null,
   "metadata": {
    "collapsed": true
   },
   "outputs": [],
   "source": []
  }
 ],
 "metadata": {
  "kernelspec": {
   "display_name": "Python 2",
   "language": "python",
   "name": "python2"
  },
  "language_info": {
   "codemirror_mode": {
    "name": "ipython",
    "version": 2
   },
   "file_extension": ".py",
   "mimetype": "text/x-python",
   "name": "python",
   "nbconvert_exporter": "python",
   "pygments_lexer": "ipython2",
   "version": "2.7.10"
  }
 },
 "nbformat": 4,
 "nbformat_minor": 0
}
